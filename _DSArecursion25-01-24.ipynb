{
 "cells": [
  {
   "cell_type": "code",
   "execution_count": 4,
   "id": "1a15287f-593f-47b3-b017-8cf5805a4e62",
   "metadata": {},
   "outputs": [],
   "source": [
    "#Q.2 Given two strings word1 and word2, return the minimum number of operations required to convert word1#to word2.\n",
    "#Example 1:\n",
    "#Input: word1 = \"horse\", word2 = \"ros\"\n",
    "#Output: 3\n",
    "#Explanation:\n",
    "#horse -> rorse (replace 'h' with 'r')\n",
    "#rorse -> rose (remove 'r')\n",
    "#rose -> ros (remove 'e')\n",
    "#Example 2:\n",
    "#Input: word1 = \"intention\", word2 = \"execution\"\n",
    "#Output: 5\n",
    "#Explanation:\n",
    "#intention -> inention (remove 't')\n",
    "#inention -> enention (replace 'i' with 'e')\n",
    "#enention -> exention (replace 'n' with 'x')\n",
    "#exention -> exection (replace 'n' with 'c')\n",
    "#exection -> execution (insert 'u')\n",
    " \n",
    " def minDistance(word1: str, word2: str) -> int:\n",
    "    # Memoization dictionary\n",
    "    memo = {}\n",
    "\n",
    "    def dp(i: int, j: int) -> int:\n",
    "        # Base case: if one string is empty\n",
    "        if i == 0:\n",
    "            return j  # Need to insert all characters of word2\n",
    "        if j == 0:\n",
    "            return i  # Need to remove all characters of word1\n",
    "\n",
    "        # Check if the result is already computed\n",
    "        if (i, j) in memo:\n",
    "            return memo[(i, j)]\n",
    "\n",
    "        # If the last characters are the same, no operation needed\n",
    "        if word1[i - 1] == word2[j - 1]:\n",
    "            memo[(i, j)] = dp(i - 1, j - 1)  # Move diagonally\n",
    "        else:\n",
    "            # Calculate the minimum of the three possible operations\n",
    "            insert_op = dp(i, j - 1)  # Insert\n",
    "            delete_op = dp(i - 1, j)  # Delete\n",
    "            replace_op = dp(i - 1, j - 1)  # Replace\n",
    "            memo[(i, j)] = 1 + min(insert_op, delete_op, replace_op)  # Add 1 for the current operation\n",
    "\n",
    "        return memo[(i, j)]\n",
    "\n",
    "    return dp(len(word1), len(word2))\n",
    "\n",
    "# Example usage:\n",
    "print(minDistance(\"horse\", \"ros\"))  # Output: 3\n",
    "print(minDistance(\"intention\", \"execution\"))  # Output: 5"
   ]
  },
  {
   "cell_type": "code",
   "execution_count": 5,
   "id": "7be3aff8-5bec-4baf-9e9d-f7ea4a238627",
   "metadata": {},
   "outputs": [
    {
     "name": "stdout",
     "output_type": "stream",
     "text": [
      "Max value: 22\n"
     ]
    }
   ],
   "source": [
    "#Q. 3 Print the max value of the array [ 13, 1, -3, 22, 5].\n",
    "def max_value(arr):\n",
    "    return max(arr)\n",
    "\n",
    "array = [13, 1, -3, 22, 5]\n",
    "print(\"Max value:\", max_value(array))   "
   ]
  },
  {
   "cell_type": "code",
   "execution_count": 6,
   "id": "f93657d1-9ef0-4cd1-881f-b6f3f6fd3340",
   "metadata": {},
   "outputs": [
    {
     "name": "stdout",
     "output_type": "stream",
     "text": [
      "Sum of values: 120\n"
     ]
    }
   ],
   "source": [
    "#Q4: Find the sum of the values of the array [92, 23, 15, -20, 10]\n",
    "def sum_values(arr):\n",
    "    return sum(arr)\n",
    "\n",
    "array = [92, 23, 15, -20, 10]\n",
    "print(\"Sum of values:\", sum_values(array)) "
   ]
  },
  {
   "cell_type": "code",
   "execution_count": 7,
   "id": "957d870a-baae-4371-aaed-3c99def5eab4",
   "metadata": {},
   "outputs": [
    {
     "name": "stdout",
     "output_type": "stream",
     "text": [
      "153 is an Armstrong number: Yes\n",
      "134 is an Armstrong number: No\n"
     ]
    }
   ],
   "source": [
    "#Q5: Given a number n, print if it is an Armstrong number or not.\n",
    "def is_armstrong_number(n):\n",
    "    digits = [int(d) for d in str(n)]\n",
    "    power = len(digits)\n",
    "    armstrong_sum = sum(d ** power for d in digits)\n",
    "    return armstrong_sum == n\n",
    "\n",
    "# Test cases\n",
    "input1 = 153\n",
    "print(f\"{input1} is an Armstrong number: {'Yes' if is_armstrong_number(input1) else 'No'}\")   \n",
    "\n",
    "input2 = 134\n",
    "print(f\"{input2} is an Armstrong number: {'Yes' if is_armstrong_number(input2) else 'No'}\")  "
   ]
  },
  {
   "cell_type": "code",
   "execution_count": null,
   "id": "f0dfa400-fe47-4322-8144-b5f81b810faf",
   "metadata": {},
   "outputs": [],
   "source": []
  }
 ],
 "metadata": {
  "kernelspec": {
   "display_name": "Python 3 (ipykernel)",
   "language": "python",
   "name": "python3"
  },
  "language_info": {
   "codemirror_mode": {
    "name": "ipython",
    "version": 3
   },
   "file_extension": ".py",
   "mimetype": "text/x-python",
   "name": "python",
   "nbconvert_exporter": "python",
   "pygments_lexer": "ipython3",
   "version": "3.11.7"
  }
 },
 "nbformat": 4,
 "nbformat_minor": 5
}
